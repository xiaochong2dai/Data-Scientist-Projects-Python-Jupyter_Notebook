{
 "cells": [
  {
   "cell_type": "markdown",
   "metadata": {},
   "source": [
    "# Python Visualization"
   ]
  },
  {
   "cell_type": "code",
   "execution_count": 1,
   "metadata": {
    "collapsed": false
   },
   "outputs": [],
   "source": [
    "# import packages\n",
    "import numpy as np\n",
    "import pandas as pd\n",
    "import matplotlib.pyplot as plt\n",
    "%matplotlib inline"
   ]
  },
  {
   "cell_type": "markdown",
   "metadata": {},
   "source": [
    "## Basic Plotting"
   ]
  },
  {
   "cell_type": "code",
   "execution_count": null,
   "metadata": {
    "collapsed": false
   },
   "outputs": [],
   "source": [
    "# Basic line plotting\n",
    "np.random.seed(111)\n",
    "y = np.random.rand(20)\n",
    "plt.plot(y)\n",
    "plt.show()"
   ]
  },
  {
   "cell_type": "code",
   "execution_count": null,
   "metadata": {
    "collapsed": true
   },
   "outputs": [],
   "source": [
    "np.random.seed(1000)"
   ]
  },
  {
   "cell_type": "code",
   "execution_count": null,
   "metadata": {
    "collapsed": false
   },
   "outputs": [],
   "source": [
    "# other basic plotting\n",
    "\n",
    "# histogram\n",
    "np.random.seed(111)\n",
    "y = np.random.randn(200)\n",
    "y1 = np.random.randn(200)\n",
    "# plt.hist(y, bins=10, rwidth=0.8)\n",
    "# plt.hist2d(y, y1)\n",
    "\n",
    "# boxplot\n",
    "# plt.boxplot(y)\n",
    "\n",
    "# pie\n",
    "# plt.pie([5,3,6,4], labels=['China', 'Russia', 'US', 'Brazil'], explode=[0.1, 0, 0, 0])\n",
    "\n",
    "# bar\n",
    "# plt.bar([0, 1, 2, 3], [5,3,6,4], width=0.8)\n",
    "\n",
    "# barh\n",
    "# plt.barh([0, 1, 2, 3], [5,3,6,4])\n",
    "\n",
    "# scatter\n",
    "# plt.scatter(np.random.rand(100), np.random.rand(100))\n",
    "\n",
    "# errorbar\n",
    "# plt.errorbar([0,1,2,3], [4,2,4,5], [0.2, 0.3, 0.1, 0.3])\n",
    "\n",
    "# imshow\n",
    "plt.imshow(np.random.randint(0, 100, [20,10]), interpolation='None')\n",
    "plt.colorbar()\n",
    "\n",
    "# contour(f)\n",
    "#x = y = np.arange(-3.0, 3.0, 0.1)\n",
    "#X, Y = np.meshgrid(x, y)\n",
    "#Z = X**2 + Y**2\n",
    "# plt.contourf(X, Y, Z)\n",
    "# plt.pcolor(X, Y, Z)\n",
    "#plt.pcolormesh(X, Y, Z)\n",
    "plt.show()"
   ]
  },
  {
   "cell_type": "code",
   "execution_count": null,
   "metadata": {
    "collapsed": false
   },
   "outputs": [],
   "source": [
    "plt.imshow?"
   ]
  },
  {
   "cell_type": "code",
   "execution_count": null,
   "metadata": {
    "collapsed": false
   },
   "outputs": [],
   "source": [
    "# general parameters\n",
    "plt.plot(np.random.random(20))\n",
    "plt.legend(['a simple legend'])\n",
    "plt.title('New Plot')\n",
    "plt.xlim([-5, 25])\n",
    "plt.ylim([-0.2, 1.2])\n",
    "plt.xlabel('X Axis')\n",
    "plt.ylabel('Y Axis')\n",
    "plt.xticks([0, 10, 20])\n",
    "plt.yticks(np.arange(-0.2, 1.2, 0.1))\n",
    "plt.show()"
   ]
  },
  {
   "cell_type": "markdown",
   "metadata": {},
   "source": [
    "## Advanced Plotting"
   ]
  },
  {
   "cell_type": "code",
   "execution_count": null,
   "metadata": {
    "collapsed": false
   },
   "outputs": [],
   "source": [
    "# advanced elements (style & color, c, ls, lw, marker, ms, mfc, mec, m, alpha,\n",
    "#                    title, xlim, xlabel, xticks,\n",
    "#                    legend, text, annotate, box, hlines, vlines, axhline, axvline\n",
    "#                    two plots in one\n",
    "#                   )\n",
    "np.random.seed(20)\n",
    "y = np.random.rand(20)\n",
    "plt.plot(y, c='green', ls='-.', lw=2, marker='o', \n",
    "         ms=8, mfc='black', mec='red', alpha=.9,\n",
    "         label='Sales')\n",
    "plt.title('First Plot')\n",
    "plt.xlabel(\"Time\")\n",
    "plt.xlim([0, 25])\n",
    "plt.ylim([-0.2, 1.2])\n",
    "plt.xticks(np.arange(0, 25, 2))\n",
    "plt.legend()\n",
    "plt.text(14, -0.1, \"This year's sale is random\")\n",
    "plt.annotate(xy=(2, 1), xytext=(3, 1.1), s='First sale')\n",
    "# plt.hlines(1.0, 4, 12)\n",
    "plt.axhline(0.5)\n",
    "#plt.plot(np.random.rand(20))\n",
    "plt.show()"
   ]
  },
  {
   "cell_type": "code",
   "execution_count": null,
   "metadata": {
    "collapsed": false
   },
   "outputs": [],
   "source": [
    "# ! pip install pandas_datareader"
   ]
  },
  {
   "cell_type": "code",
   "execution_count": 60,
   "metadata": {
    "collapsed": false,
    "scrolled": true
   },
   "outputs": [],
   "source": [
    "# Excercize: For investors buy Apple stock at 09/04/2012, when the investors get their investment back?\n",
    "# 1) use following data, do Pandas operation\n",
    "# 2) legend 3) reference line 4) annotation\n",
    "import pandas.io.data as web\n",
    "import datetime\n",
    "start = datetime.datetime(2010, 10, 1)\n",
    "end = datetime.datetime(2015, 10, 10)\n",
    "f = web.DataReader(\"AAPL\", 'yahoo', start, end)\n",
    "\n",
    "# f.index[673]"
   ]
  },
  {
   "cell_type": "code",
   "execution_count": 61,
   "metadata": {
    "collapsed": false
   },
   "outputs": [
    {
     "data": {
      "text/html": [
       "<div>\n",
       "<table border=\"1\" class=\"dataframe\">\n",
       "  <thead>\n",
       "    <tr style=\"text-align: right;\">\n",
       "      <th></th>\n",
       "      <th>Open</th>\n",
       "      <th>High</th>\n",
       "      <th>Low</th>\n",
       "      <th>Close</th>\n",
       "      <th>Volume</th>\n",
       "      <th>Adj Close</th>\n",
       "    </tr>\n",
       "    <tr>\n",
       "      <th>Date</th>\n",
       "      <th></th>\n",
       "      <th></th>\n",
       "      <th></th>\n",
       "      <th></th>\n",
       "      <th></th>\n",
       "      <th></th>\n",
       "    </tr>\n",
       "  </thead>\n",
       "  <tbody>\n",
       "    <tr>\n",
       "      <th>2010-10-01</th>\n",
       "      <td>286.149994</td>\n",
       "      <td>286.579990</td>\n",
       "      <td>281.349991</td>\n",
       "      <td>282.520004</td>\n",
       "      <td>112035700</td>\n",
       "      <td>37.150774</td>\n",
       "    </tr>\n",
       "    <tr>\n",
       "      <th>2010-10-04</th>\n",
       "      <td>281.600010</td>\n",
       "      <td>282.900013</td>\n",
       "      <td>277.769989</td>\n",
       "      <td>278.639996</td>\n",
       "      <td>108825500</td>\n",
       "      <td>36.640561</td>\n",
       "    </tr>\n",
       "    <tr>\n",
       "      <th>2010-10-05</th>\n",
       "      <td>281.999992</td>\n",
       "      <td>289.449989</td>\n",
       "      <td>281.819988</td>\n",
       "      <td>288.939991</td>\n",
       "      <td>125491800</td>\n",
       "      <td>37.994988</td>\n",
       "    </tr>\n",
       "    <tr>\n",
       "      <th>2010-10-06</th>\n",
       "      <td>289.589993</td>\n",
       "      <td>291.989994</td>\n",
       "      <td>285.259987</td>\n",
       "      <td>289.190010</td>\n",
       "      <td>167717200</td>\n",
       "      <td>38.027865</td>\n",
       "    </tr>\n",
       "    <tr>\n",
       "      <th>2010-10-07</th>\n",
       "      <td>290.339996</td>\n",
       "      <td>290.480000</td>\n",
       "      <td>286.910011</td>\n",
       "      <td>289.219997</td>\n",
       "      <td>102099900</td>\n",
       "      <td>38.031808</td>\n",
       "    </tr>\n",
       "  </tbody>\n",
       "</table>\n",
       "</div>"
      ],
      "text/plain": [
       "                  Open        High         Low       Close     Volume  \\\n",
       "Date                                                                    \n",
       "2010-10-01  286.149994  286.579990  281.349991  282.520004  112035700   \n",
       "2010-10-04  281.600010  282.900013  277.769989  278.639996  108825500   \n",
       "2010-10-05  281.999992  289.449989  281.819988  288.939991  125491800   \n",
       "2010-10-06  289.589993  291.989994  285.259987  289.190010  167717200   \n",
       "2010-10-07  290.339996  290.480000  286.910011  289.219997  102099900   \n",
       "\n",
       "            Adj Close  \n",
       "Date                   \n",
       "2010-10-01  37.150774  \n",
       "2010-10-04  36.640561  \n",
       "2010-10-05  37.994988  \n",
       "2010-10-06  38.027865  \n",
       "2010-10-07  38.031808  "
      ]
     },
     "execution_count": 61,
     "metadata": {},
     "output_type": "execute_result"
    }
   ],
   "source": [
    "f.head()"
   ]
  },
  {
   "cell_type": "code",
   "execution_count": 62,
   "metadata": {
    "collapsed": false
   },
   "outputs": [],
   "source": [
    "x=np.array(f.index.tolist())\n",
    "y=np.array(f['Adj Close'].values)\n",
    "x=pd.to_datetime(x)"
   ]
  },
  {
   "cell_type": "code",
   "execution_count": 63,
   "metadata": {
    "collapsed": false
   },
   "outputs": [
    {
     "data": {
      "text/plain": [
       "((1265,), (1265,))"
      ]
     },
     "execution_count": 63,
     "metadata": {},
     "output_type": "execute_result"
    }
   ],
   "source": [
    "y.shape,x.shape"
   ]
  },
  {
   "cell_type": "code",
   "execution_count": 64,
   "metadata": {
    "collapsed": false
   },
   "outputs": [],
   "source": [
    "plt.xticks?"
   ]
  },
  {
   "cell_type": "code",
   "execution_count": 68,
   "metadata": {
    "collapsed": false
   },
   "outputs": [
    {
     "data": {
      "image/png": "[encoded data removed]",
      "text/plain": [
       "<matplotlib.figure.Figure at 0x11d3ec0d0>"
      ]
     },
     "metadata": {},
     "output_type": "display_data"
    }
   ],
   "source": [
    "plt.plot(x, y, label='Apple')\n",
    "plt.xticks(rotation=45)\n",
    "plt.show()"
   ]
  },
  {
   "cell_type": "markdown",
   "metadata": {},
   "source": [
    "# Objective-Oriented Programming"
   ]
  },
  {
   "cell_type": "code",
   "execution_count": null,
   "metadata": {
    "collapsed": true
   },
   "outputs": [],
   "source": [
    "# What is an object? \n",
    "# What is a Class?\n",
    "# What is in a Class? \n",
    "# (person, professor, student)"
   ]
  },
  {
   "cell_type": "code",
   "execution_count": null,
   "metadata": {
    "collapsed": false
   },
   "outputs": [],
   "source": [
    "a = 1\n",
    "print a.__class__\n",
    "b = 'Python'\n",
    "print b.__class__\n",
    "c = lambda x: 2.3 * x % 3\n",
    "print c.__class__"
   ]
  },
  {
   "cell_type": "code",
   "execution_count": null,
   "metadata": {
    "collapsed": true
   },
   "outputs": [],
   "source": [
    "# attribute\n",
    "# methods"
   ]
  },
  {
   "cell_type": "code",
   "execution_count": null,
   "metadata": {
    "collapsed": false
   },
   "outputs": [],
   "source": [
    "def func1(x):\n",
    "    return x**2\n",
    "func1(100)"
   ]
  },
  {
   "cell_type": "code",
   "execution_count": null,
   "metadata": {
    "collapsed": false
   },
   "outputs": [],
   "source": [
    "class person(object):\n",
    "    i = 3\n",
    "\n",
    "    def __init__(self, age=None, sex=None):\n",
    "        self._age = age\n",
    "        self._sex = sex\n",
    "    def get_age(self):\n",
    "        return self._age\n",
    "        # print self._age\n",
    "    def get_sex(self):\n",
    "        return self._sex\n",
    "    def set_age(self, new_age):\n",
    "        self._age = new_age\n",
    "        return None\n",
    "    \n",
    "class professor(person):\n",
    "    \n",
    "    def __init__(self, age=None, sex=None, major=None):\n",
    "        self._age = age\n",
    "        self._sex = sex\n",
    "        self._major = major\n",
    "    def get_major(self):\n",
    "        return self._major\n",
    "    def set_major(self, new_major):\n",
    "        self._major = new_major\n",
    "        return None"
   ]
  },
  {
   "cell_type": "code",
   "execution_count": null,
   "metadata": {
    "collapsed": false
   },
   "outputs": [],
   "source": [
    "person_1 = person(20, 'F')\n",
    "person_2 = person(30, 'M')\n",
    "person_3 = person(24, 'F')\n",
    "prof_1 = professor(50, 'M', 'CS')"
   ]
  },
  {
   "cell_type": "code",
   "execution_count": null,
   "metadata": {
    "collapsed": false
   },
   "outputs": [],
   "source": [
    "person.i"
   ]
  },
  {
   "cell_type": "code",
   "execution_count": null,
   "metadata": {
    "collapsed": false
   },
   "outputs": [],
   "source": [
    "person_2._test_var"
   ]
  },
  {
   "cell_type": "code",
   "execution_count": null,
   "metadata": {
    "collapsed": true
   },
   "outputs": [],
   "source": [
    "# Excercise: design a banking accounting system, checking & saving account\n",
    "class Account():\n",
    "    def __init__(number=None, owner_name=None, init_deposit=0.0):\n",
    "        self._account_number = number\n",
    "        self._owner_name = name\n",
    "        self._balance = init_deposit\n",
    "    def get_balance():\n",
    "        print.self._balance\n",
    "\n",
    "class CheckingAccount(Account):\n",
    "    \n",
    "    def ATM_cashout():\n",
    "        pass\n",
    "    pass\n",
    "\n",
    "class SavingAccount(Account):\n",
    "    \n",
    "    def InterestCalculation():\n",
    "        pass\n",
    "    pass\n",
    "\n"
   ]
  },
  {
   "cell_type": "code",
   "execution_count": null,
   "metadata": {
    "collapsed": true
   },
   "outputs": [],
   "source": [
    "import datetime"
   ]
  },
  {
   "cell_type": "code",
   "execution_count": 99,
   "metadata": {
    "collapsed": false
   },
   "outputs": [],
   "source": [
    "# Multiple Plot inside one Axes\n",
    "start = datetime.datetime(2011, 4, 10)\n",
    "end = datetime.datetime(2015, 10, 10)\n",
    "f = web.DataReader(\"AAPL\", 'yahoo', start, end)\n",
    "fm = web.DataReader(\"MSFT\", 'yahoo', start, end)"
   ]
  },
  {
   "cell_type": "code",
   "execution_count": 100,
   "metadata": {
    "collapsed": false
   },
   "outputs": [
    {
     "data": {
      "text/plain": [
       "<matplotlib.text.Text at 0x11f13ed10>"
      ]
     },
     "execution_count": 100,
     "metadata": {},
     "output_type": "execute_result"
    },
    {
     "data": {
      "image/png": "[encoded data removed]",
      "text/plain": [
       "<matplotlib.figure.Figure at 0x11e346d10>"
      ]
     },
     "metadata": {},
     "output_type": "display_data"
    }
   ],
   "source": [
    "# get X data, convert to np array, now it is np array with date information\n",
    "X = np.array(f.index.tolist())\n",
    "Y = np.array(f['Adj Close'].values)\n",
    "XM = np.array(fm.index.tolist())\n",
    "YM = np.array(fm['Adj Close'].values)\n",
    "\n",
    "# Basic Plot X, Y\n",
    "# plt.plot(X,Y)\n",
    "# Looks like the stock price keep increasing!! \n",
    "# Start to add some feature .. legend first\n",
    "plt.plot(X, Y, label='AAPL', marker='.')\n",
    "plt.plot(XM, YM, label='MSFT', c='green')\n",
    "plt.legend(loc='upper left') # may change the position\n",
    "plt.xlabel('Date')\n",
    "plt.ylabel('Stock Price')\n",
    "plt.xticks(rotation=45)\n",
    "plt.title('Stock Price of Apple: A great way to invest')"
   ]
  },
  {
   "cell_type": "code",
   "execution_count": null,
   "metadata": {
    "collapsed": false
   },
   "outputs": [],
   "source": [
    "# Multiple Axes inside one Figure\n",
    "fig = plt.figure()\n",
    "ax1 = fig.add_subplot(2,1,1)\n",
    "ax1.plot(X, Y, label='AAPL', marker='.')\n",
    "ax1.legend(loc='upper left') # may change the position\n",
    "ax1.set_xlabel('Date')\n",
    "ax1.set_ylabel('Stock Price')\n",
    "ax1.set_title('Stock Price of Apple: A great way to invest')\n",
    "\n",
    "plt.xticks(rotation=45)\n",
    "\n",
    "ax2 = fig.add_subplot(2,1,2)\n",
    "ax2.plot(XM, YM, label='MSFT', c='green')\n",
    "ax2.legend(loc='upper left') # may change the position\n",
    "ax2.set_xlabel('Date')\n",
    "ax2.set_ylabel('Stock Price')\n",
    "ax2.set_title('Stock Price of Apple: A great way to invest')\n",
    "fig.show()"
   ]
  },
  {
   "cell_type": "markdown",
   "metadata": {},
   "source": [
    "## Matplotlib Principle"
   ]
  },
  {
   "cell_type": "code",
   "execution_count": null,
   "metadata": {
    "collapsed": false
   },
   "outputs": [],
   "source": [
    "# Hierarchy: Figure, Axes, Artist\n",
    "fig = plt.figure(dpi=300, figsize=(12, 6), facecolor='green')\n",
    "\n",
    "# get the data\n",
    "y = np.random.randn(100)\n",
    "\n",
    "ax1 = fig.add_subplot(1,2,1) # axes\n",
    "\n",
    "ax1.plot(y, c='red')\n",
    "#plt.xlabel('Time')\n",
    "\n",
    "# ax1.set_xlabel('Time')\n",
    "# plt.xlabel('Time')\n",
    "ax2 = fig.add_subplot(1,2,2)\n",
    "ax2.hist(y)\n",
    "\n",
    "plt.xlabel('Number')\n",
    "\n",
    "ax1.set_xlabel('Time')\n",
    "ax2.set_xlabel('Number')\n",
    "ax1.grid()\n",
    "ax2.grid()\n",
    "# fill_between()\n",
    "\n",
    "fig.show()\n",
    "# fig.savefig('random.png', dpi=200)"
   ]
  },
  {
   "cell_type": "code",
   "execution_count": null,
   "metadata": {
    "collapsed": false
   },
   "outputs": [],
   "source": [
    "# Figure level: size, resolution, save\n",
    "fig = plt.figure()\n",
    "ax1 = fig.add_subplot(1,2,1) "
   ]
  },
  {
   "cell_type": "code",
   "execution_count": null,
   "metadata": {
    "collapsed": true
   },
   "outputs": [],
   "source": [
    "ax1.set_xlabel"
   ]
  },
  {
   "cell_type": "code",
   "execution_count": null,
   "metadata": {
    "collapsed": true
   },
   "outputs": [],
   "source": [
    "fig = plt.figure"
   ]
  },
  {
   "cell_type": "code",
   "execution_count": null,
   "metadata": {
    "collapsed": true
   },
   "outputs": [],
   "source": [
    "fig = plt.figure"
   ]
  },
  {
   "cell_type": "code",
   "execution_count": null,
   "metadata": {
    "collapsed": true
   },
   "outputs": [],
   "source": [
    "# Axes level: multiple axes organization\n",
    "# Hierarchy: Figure, Axes, Artist\n",
    "# fig = plt.figure(dpi=300, figsize=(8, 4))\n",
    "# ax1 = plt.subplot2grid?"
   ]
  },
  {
   "cell_type": "code",
   "execution_count": 69,
   "metadata": {
    "collapsed": true
   },
   "outputs": [],
   "source": [
    "# Excercise (get data from Yahoo stock), draw (plot, hist, pie in one graph)\n",
    "import pandas.io.data as web\n",
    "import datetime\n",
    "start = datetime.datetime(2010, 1, 1)\n",
    "end = datetime.datetime(2015, 10, 10)\n",
    "f = web.DataReader(\"AAPL\", 'yahoo', start, end)\n",
    "fm = web.DataReader(\"MSFT\", 'yahoo', start, end)"
   ]
  },
  {
   "cell_type": "code",
   "execution_count": 70,
   "metadata": {
    "collapsed": true
   },
   "outputs": [],
   "source": [
    "# get X data, convert to np array, now it is np array with date information\n",
    "X = np.array(f.index.tolist())\n",
    "Y = np.array(f['Adj Close'].values)\n",
    "XM = np.array(fm.index.tolist())\n",
    "YM = np.array(fm['Adj Close'].values)"
   ]
  },
  {
   "cell_type": "code",
   "execution_count": 71,
   "metadata": {
    "collapsed": false
   },
   "outputs": [
    {
     "name": "stderr",
     "output_type": "stream",
     "text": [
      "/Users/yanx/anaconda/lib/python2.7/site-packages/matplotlib/figure.py:397: UserWarning: matplotlib is currently using a non-GUI backend, so cannot show the figure\n",
      "  \"matplotlib is currently using a non-GUI backend, \"\n"
     ]
    },
    {
     "data": {
      "image/png": "[encoded data removed]",
      "text/plain": [
       "<matplotlib.figure.Figure at 0x11ccb6ad0>"
      ]
     },
     "metadata": {},
     "output_type": "display_data"
    }
   ],
   "source": [
    "# 2 X 2\n",
    " \n",
    "# Upper left, stock daily; Upper right, stock hist (APPLE)\n",
    "# Lower left, stock daily; Lower right, stock hist (MSFT)\n",
    "fig = plt.figure(figsize=(8,8))\n",
    "\n",
    "ax1 = fig.add_subplot(2,2,1)\n",
    "ax1.plot_date(X, Y, '-')\n",
    "\n",
    "ax2 = fig.add_subplot(2,2,2)\n",
    "ax2.hist(Y)\n",
    "\n",
    "ax3 = fig.add_subplot(2,2,3)\n",
    "ax3.plot_date(XM, YM, '-')\n",
    "\n",
    "ax4 = fig.add_subplot(2,2,4)\n",
    "ax4.hist(YM)\n",
    "\n",
    "ax2.set_xlim(0, 150)\n",
    "ax4.set_xlim(0, 150)\n",
    "\n",
    "fig.show()"
   ]
  },
  {
   "cell_type": "code",
   "execution_count": null,
   "metadata": {
    "collapsed": false
   },
   "outputs": [],
   "source": [
    "plt.style.use('ggplot')"
   ]
  },
  {
   "cell_type": "code",
   "execution_count": null,
   "metadata": {
    "collapsed": false
   },
   "outputs": [],
   "source": [
    "plt.style.available"
   ]
  },
  {
   "cell_type": "markdown",
   "metadata": {},
   "source": [
    "## Exploratory Data Analytics"
   ]
  },
  {
   "cell_type": "code",
   "execution_count": null,
   "metadata": {
    "collapsed": true
   },
   "outputs": [],
   "source": [
    "df = pd.read_csv('train.csv')"
   ]
  },
  {
   "cell_type": "markdown",
   "metadata": {},
   "source": [
    "### Note"
   ]
  },
  {
   "cell_type": "code",
   "execution_count": null,
   "metadata": {
    "collapsed": false
   },
   "outputs": [],
   "source": [
    "df.head()"
   ]
  },
  {
   "cell_type": "markdown",
   "metadata": {},
   "source": [
    "### One discrete variable"
   ]
  },
  {
   "cell_type": "code",
   "execution_count": null,
   "metadata": {
    "collapsed": true
   },
   "outputs": [],
   "source": [
    "# value_count, bar, pie\n",
    "# example: survived, sex"
   ]
  },
  {
   "cell_type": "code",
   "execution_count": null,
   "metadata": {
    "collapsed": false
   },
   "outputs": [],
   "source": [
    "df.Pclass.value_counts(normalize=True, dropna=False)"
   ]
  },
  {
   "cell_type": "code",
   "execution_count": null,
   "metadata": {
    "collapsed": false
   },
   "outputs": [],
   "source": [
    "plt.bar([0, 1, 2], df.Pclass.value_counts().values)"
   ]
  },
  {
   "cell_type": "code",
   "execution_count": null,
   "metadata": {
    "collapsed": false
   },
   "outputs": [],
   "source": [
    "plt.pie(df.Pclass.value_counts().values)"
   ]
  },
  {
   "cell_type": "code",
   "execution_count": null,
   "metadata": {
    "collapsed": false
   },
   "outputs": [],
   "source": [
    "# bar, pie\n",
    "# Data generation\n",
    "X = df.Survived.value_counts().index.tolist()\n",
    "Y = df.Survived.value_counts().values\n",
    "\n",
    "# Figure plotting \n",
    "fig = plt.figure(figsize=(8, 4))\n",
    "\n",
    "width_value = 0.8\n",
    "ax1 = fig.add_subplot(1,2,1)\n",
    "ax1.bar(X, Y, width=width_value)\n",
    "ax1.set_title('Survived')\n",
    "ax1.set_xlabel('Survived or Not')\n",
    "ax1.set_ylabel('Count')\n",
    "ax1.set_xticks(np.arange(0, 2, 1) + width_value / 2)\n",
    "ax1.set_xticklabels(['No...', 'Yes!!'])\n",
    "ax1.set_xlim([-0.2, 2.0])\n",
    "\n",
    "ax2 = fig.add_subplot(1,2,2)\n",
    "ax2.pie(Y, labels=['No...', 'Yes!!!'])\n",
    "\n",
    "fig.show()"
   ]
  },
  {
   "cell_type": "code",
   "execution_count": null,
   "metadata": {
    "collapsed": false
   },
   "outputs": [],
   "source": [
    "np.arange(0, 2, 1)"
   ]
  },
  {
   "cell_type": "markdown",
   "metadata": {},
   "source": [
    "### One continuous variable"
   ]
  },
  {
   "cell_type": "code",
   "execution_count": null,
   "metadata": {
    "collapsed": true
   },
   "outputs": [],
   "source": [
    "# box plot, histogram, Qcut + bar plot\n",
    "# Age, Fare"
   ]
  },
  {
   "cell_type": "code",
   "execution_count": null,
   "metadata": {
    "collapsed": false
   },
   "outputs": [],
   "source": [
    "value = df.Age.quantile(0.99)\n",
    "df.ix[df.Age > value, 'Age'] = value"
   ]
  },
  {
   "cell_type": "code",
   "execution_count": null,
   "metadata": {
    "collapsed": false
   },
   "outputs": [],
   "source": [
    "Y = df.Age.dropna().values"
   ]
  },
  {
   "cell_type": "code",
   "execution_count": null,
   "metadata": {
    "collapsed": false
   },
   "outputs": [],
   "source": [
    "v1, v2, v3 = plt.hist(Y, bins=80)\n",
    "# v3[1].set_color('red')\n",
    "# v3[2].set_color('black')\n",
    "plt.show()"
   ]
  },
  {
   "cell_type": "code",
   "execution_count": null,
   "metadata": {
    "collapsed": false
   },
   "outputs": [],
   "source": [
    "plt.boxplot(Y)"
   ]
  },
  {
   "cell_type": "code",
   "execution_count": null,
   "metadata": {
    "collapsed": false
   },
   "outputs": [],
   "source": [
    "v31 = v3[1]"
   ]
  },
  {
   "cell_type": "code",
   "execution_count": null,
   "metadata": {
    "collapsed": false
   },
   "outputs": [],
   "source": [
    "a = range(10)"
   ]
  },
  {
   "cell_type": "code",
   "execution_count": null,
   "metadata": {
    "collapsed": false
   },
   "outputs": [],
   "source": [
    "b = a[3]"
   ]
  },
  {
   "cell_type": "code",
   "execution_count": null,
   "metadata": {
    "collapsed": false
   },
   "outputs": [],
   "source": [
    "class SimpleClass(object):\n",
    "    def __init__(self, value=None):\n",
    "        self._value = value\n",
    "    def set_value(self, new_value):\n",
    "        self._value = new_value\n",
    "    def get_value(self):\n",
    "        print self._value"
   ]
  },
  {
   "cell_type": "code",
   "execution_count": null,
   "metadata": {
    "collapsed": false
   },
   "outputs": [],
   "source": [
    "class_list = [SimpleClass(i) for i in range(10)]"
   ]
  },
  {
   "cell_type": "code",
   "execution_count": null,
   "metadata": {
    "collapsed": false
   },
   "outputs": [],
   "source": [
    "new_var = class_list[7]"
   ]
  },
  {
   "cell_type": "code",
   "execution_count": null,
   "metadata": {
    "collapsed": true
   },
   "outputs": [],
   "source": [
    "new_var.set_value(700)"
   ]
  },
  {
   "cell_type": "code",
   "execution_count": null,
   "metadata": {
    "collapsed": false
   },
   "outputs": [],
   "source": [
    "class_list[7].get_value()"
   ]
  },
  {
   "cell_type": "markdown",
   "metadata": {},
   "source": [
    "### Two discrete variables"
   ]
  },
  {
   "cell_type": "code",
   "execution_count": null,
   "metadata": {
    "collapsed": true
   },
   "outputs": [],
   "source": [
    "# pivot table, stacked bar plot\n",
    "# Survived vs Sex"
   ]
  },
  {
   "cell_type": "code",
   "execution_count": null,
   "metadata": {
    "collapsed": false
   },
   "outputs": [],
   "source": [
    "df.columns"
   ]
  },
  {
   "cell_type": "code",
   "execution_count": null,
   "metadata": {
    "collapsed": false
   },
   "outputs": [],
   "source": [
    "pd.pivot_table(df, columns='Sex', index='Survived', values='PassengerId', aggfunc='count')"
   ]
  },
  {
   "cell_type": "code",
   "execution_count": null,
   "metadata": {
    "collapsed": false
   },
   "outputs": [],
   "source": [
    "# X axis survive\n",
    "# Y axis female & male\n",
    "data_1 = df[df.Sex == 'male']['Survived'].value_counts(sort=False)\n",
    "data_2 = df[df.Sex == 'female']['Survived'].value_counts(sort=False)\n",
    "plt.bar(data_1.index, data_1.values)\n",
    "plt.bar(data_2.index, data_2.values, bottom=data_1.values, color='green')"
   ]
  },
  {
   "cell_type": "code",
   "execution_count": null,
   "metadata": {
    "collapsed": false
   },
   "outputs": [],
   "source": [
    "a = df[df.Sex == 'male']['Survived']"
   ]
  },
  {
   "cell_type": "code",
   "execution_count": null,
   "metadata": {
    "collapsed": false
   },
   "outputs": [],
   "source": [
    "a.value_counts(sort=False)"
   ]
  },
  {
   "cell_type": "code",
   "execution_count": null,
   "metadata": {
    "collapsed": false
   },
   "outputs": [],
   "source": [
    "data_1"
   ]
  },
  {
   "cell_type": "code",
   "execution_count": null,
   "metadata": {
    "collapsed": false
   },
   "outputs": [],
   "source": [
    "df[df.Sex == 'female']['Survived'].value_counts()"
   ]
  },
  {
   "cell_type": "markdown",
   "metadata": {},
   "source": [
    "### Two continuous variables"
   ]
  },
  {
   "cell_type": "code",
   "execution_count": null,
   "metadata": {
    "collapsed": true
   },
   "outputs": [],
   "source": [
    "# scatter plot, plot, contour(f), hist2d\n",
    "# Age vs Fare"
   ]
  },
  {
   "cell_type": "code",
   "execution_count": null,
   "metadata": {
    "collapsed": false
   },
   "outputs": [],
   "source": [
    "df = df.drop('Cabin', axis=1)\n",
    "df = df.dropna()"
   ]
  },
  {
   "cell_type": "code",
   "execution_count": null,
   "metadata": {
    "collapsed": false
   },
   "outputs": [],
   "source": [
    "plt.hist2d(df.Age, df.Fare)"
   ]
  },
  {
   "cell_type": "markdown",
   "metadata": {},
   "source": [
    "### One discrete, one continuous variables"
   ]
  },
  {
   "cell_type": "code",
   "execution_count": null,
   "metadata": {
    "collapsed": true
   },
   "outputs": [],
   "source": [
    "# group-by, stack plot, multiple histogram, violinplot"
   ]
  },
  {
   "cell_type": "code",
   "execution_count": null,
   "metadata": {
    "collapsed": false
   },
   "outputs": [],
   "source": [
    "df.groupby('Survived').agg({'Age': ['mean', 'count']})"
   ]
  },
  {
   "cell_type": "code",
   "execution_count": null,
   "metadata": {
    "collapsed": false
   },
   "outputs": [],
   "source": [
    "\n",
    "plt.hist(df[df.Survived==0]['Age'], alpha=0.4)\n",
    "plt.hist(df[df.Survived==1]['Age'], alpha=0.4)\n",
    "# plt.hist(df[df.Survived==1]['Age'])"
   ]
  },
  {
   "cell_type": "code",
   "execution_count": null,
   "metadata": {
    "collapsed": true
   },
   "outputs": [],
   "source": [
    "data 1 = [0, 100]\n",
    "data 2 = [0, 200]\n",
    "\n",
    "hist()\n",
    "data 1 => 10 bins, each bins = 10\n",
    "data 2 => 10 bins, each bins = 20\n",
    "\n",
    "xlim => [0, 100], 10 bins from data 1, compare with 5 bins in data 2"
   ]
  },
  {
   "cell_type": "code",
   "execution_count": null,
   "metadata": {
    "collapsed": true
   },
   "outputs": [],
   "source": [
    "# Survived vs Age"
   ]
  },
  {
   "cell_type": "markdown",
   "metadata": {},
   "source": [
    "### Multiple variables (>2)"
   ]
  },
  {
   "cell_type": "code",
   "execution_count": null,
   "metadata": {
    "collapsed": true
   },
   "outputs": [],
   "source": [
    "# multiple plot in one figure, twinx\n",
    "# revenue, stock price, date"
   ]
  },
  {
   "cell_type": "code",
   "execution_count": null,
   "metadata": {
    "collapsed": false
   },
   "outputs": [],
   "source": [
    "fig = plt.figure()\n",
    "\n",
    "ax1 = fig.add_subplot(1,1,1)\n",
    "ax1.plot(np.random.rand(20))\n",
    "\n",
    "ax2 = ax1.twinx()\n",
    "ax2.hist(np.random.rand(1000) * 20, alpha=0.3)\n",
    "\n",
    "plt.show()"
   ]
  },
  {
   "cell_type": "code",
   "execution_count": null,
   "metadata": {
    "collapsed": false
   },
   "outputs": [],
   "source": [
    "fig = plt.figure()\n",
    "\n",
    "ax1 = fig.add_subplot(1,2,1)\n",
    "df.Age.plot.hist(ax=ax1)\n",
    "\n",
    "\n",
    "ax2 = fig.add_subplot(1,2,2)\n",
    "df.Fare.plot.hist(ax=ax2)\n",
    "\n",
    "fig.show()"
   ]
  },
  {
   "cell_type": "code",
   "execution_count": null,
   "metadata": {
    "collapsed": true
   },
   "outputs": [],
   "source": [
    "import plotly.offline as of"
   ]
  },
  {
   "cell_type": "code",
   "execution_count": null,
   "metadata": {
    "collapsed": false
   },
   "outputs": [],
   "source": [
    "of.init_notebook_mode()"
   ]
  },
  {
   "cell_type": "code",
   "execution_count": null,
   "metadata": {
    "collapsed": false
   },
   "outputs": [],
   "source": [
    "of.iplot([{'x': range(20), 'y': np.random.rand(20)}])\n",
    "# plotly module"
   ]
  },
  {
   "cell_type": "markdown",
   "metadata": {},
   "source": [
    "### Pandas fast visualization"
   ]
  },
  {
   "cell_type": "code",
   "execution_count": null,
   "metadata": {
    "collapsed": false
   },
   "outputs": [],
   "source": [
    "# Series plotting\n",
    "Series.plot(kind='line', ax=None, figsize=None, use_index=True, \n",
    "            title=None, grid=None, legend=False, style=None, \n",
    "            logx=False, logy=False, loglog=False, xticks=None, \n",
    "            yticks=None, xlim=None, ylim=None, rot=None, fontsize=None,\n",
    "            colormap=None, table=False, yerr=None, xerr=None, label=None, secondary_y=False, **kwds)"
   ]
  },
  {
   "cell_type": "code",
   "execution_count": null,
   "metadata": {
    "collapsed": true
   },
   "outputs": [],
   "source": [
    "# DataFrame plotting\n",
    "DataFrame.plot(x=None, y=None, kind='line', ax=None, subplots=False, \n",
    "               sharex=None, sharey=False, layout=None, figsize=None, \n",
    "               use_index=True, title=None, grid=None, legend=True, \n",
    "               style=None, logx=False, logy=False, loglog=False, xticks=None, \n",
    "               yticks=None, xlim=None, ylim=None, rot=None, fontsize=None, \n",
    "               colormap=None, table=False, yerr=None, xerr=None, secondary_y=False, sort_columns=False, **kwds)"
   ]
  }
 ],
 "metadata": {
  "kernelspec": {
   "display_name": "Python 2",
   "language": "python",
   "name": "python2"
  },
  "language_info": {
   "codemirror_mode": {
    "name": "ipython",
    "version": 2
   },
   "file_extension": ".py",
   "mimetype": "text/x-python",
   "name": "python",
   "nbconvert_exporter": "python",
   "pygments_lexer": "ipython2",
   "version": "2.7.11"
  }
 },
 "nbformat": 4,
 "nbformat_minor": 0
}
